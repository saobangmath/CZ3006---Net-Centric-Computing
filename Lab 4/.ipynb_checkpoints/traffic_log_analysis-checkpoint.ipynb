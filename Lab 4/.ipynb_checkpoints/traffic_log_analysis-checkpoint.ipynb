{
 "cells": [
  {
   "cell_type": "markdown",
   "metadata": {},
   "source": [
    "# Net Centric Computing CZ3006 Lab 4\n",
    "\n",
    "## - Analysis Traffic log data "
   ]
  },
  {
   "cell_type": "code",
   "execution_count": 6,
   "metadata": {},
   "outputs": [],
   "source": [
    "# importing all required Python libraries for analysis\n",
    "import pandas as pd\n",
    "import numpy as np\n",
    "import matplotlib.pyplot as plt "
   ]
  },
  {
   "cell_type": "markdown",
   "metadata": {},
   "source": [
    "# Import the data log "
   ]
  },
  {
   "cell_type": "code",
   "execution_count": 7,
   "metadata": {},
   "outputs": [
    {
     "data": {
      "text/html": [
       "<div>\n",
       "<style scoped>\n",
       "    .dataframe tbody tr th:only-of-type {\n",
       "        vertical-align: middle;\n",
       "    }\n",
       "\n",
       "    .dataframe tbody tr th {\n",
       "        vertical-align: top;\n",
       "    }\n",
       "\n",
       "    .dataframe thead th {\n",
       "        text-align: right;\n",
       "    }\n",
       "</style>\n",
       "<table border=\"1\" class=\"dataframe\">\n",
       "  <thead>\n",
       "    <tr style=\"text-align: right;\">\n",
       "      <th></th>\n",
       "      <th>TYPE</th>\n",
       "      <th>SFLOW_AGENT_ADDRESS</th>\n",
       "      <th>INPUTPORT</th>\n",
       "      <th>OUTPUTPORT</th>\n",
       "      <th>SRC_MAC</th>\n",
       "      <th>DST_MAC</th>\n",
       "      <th>ETHERNET_TYPE</th>\n",
       "      <th>IN_VLAN</th>\n",
       "      <th>OUT_VLAN</th>\n",
       "      <th>SRC_IP</th>\n",
       "      <th>...</th>\n",
       "      <th>IP_PROTOCOL</th>\n",
       "      <th>IP_TOS</th>\n",
       "      <th>IP_TTL</th>\n",
       "      <th>UDP_SRC_PORT/TCP_SRC_PORT/ICMP_TYPE</th>\n",
       "      <th>UDP_DST_PORT/TCP_DST_PORT/ICMP_CODE</th>\n",
       "      <th>TCP_FLAGS</th>\n",
       "      <th>PACKET_SIZE</th>\n",
       "      <th>IP_SIZE</th>\n",
       "      <th>SAMPLING RATE</th>\n",
       "      <th>20</th>\n",
       "    </tr>\n",
       "  </thead>\n",
       "  <tbody>\n",
       "    <tr>\n",
       "      <th>0</th>\n",
       "      <td>FLOW</td>\n",
       "      <td>aa.aa.aa.aa</td>\n",
       "      <td>129</td>\n",
       "      <td>193</td>\n",
       "      <td>609c9f851b00</td>\n",
       "      <td>0031466b23cf</td>\n",
       "      <td>0x0800</td>\n",
       "      <td>11.0</td>\n",
       "      <td>919</td>\n",
       "      <td>155.69.160.32</td>\n",
       "      <td>...</td>\n",
       "      <td>6</td>\n",
       "      <td>0x00</td>\n",
       "      <td>56</td>\n",
       "      <td>23159.0</td>\n",
       "      <td>80</td>\n",
       "      <td>0x10</td>\n",
       "      <td>74</td>\n",
       "      <td>52</td>\n",
       "      <td>2048</td>\n",
       "      <td>NaN</td>\n",
       "    </tr>\n",
       "    <tr>\n",
       "      <th>1</th>\n",
       "      <td>FLOW</td>\n",
       "      <td>aa.aa.aa.aa</td>\n",
       "      <td>137</td>\n",
       "      <td>200</td>\n",
       "      <td>d404ff55fd4d</td>\n",
       "      <td>80711fc76001</td>\n",
       "      <td>0x0800</td>\n",
       "      <td>919.0</td>\n",
       "      <td>280</td>\n",
       "      <td>130.246.176.53</td>\n",
       "      <td>...</td>\n",
       "      <td>6</td>\n",
       "      <td>0x00</td>\n",
       "      <td>50</td>\n",
       "      <td>50041.0</td>\n",
       "      <td>20739</td>\n",
       "      <td>0x10</td>\n",
       "      <td>1518</td>\n",
       "      <td>1500</td>\n",
       "      <td>2048</td>\n",
       "      <td>NaN</td>\n",
       "    </tr>\n",
       "    <tr>\n",
       "      <th>2</th>\n",
       "      <td>FLOW</td>\n",
       "      <td>aa.aa.aa.aa</td>\n",
       "      <td>129</td>\n",
       "      <td>135</td>\n",
       "      <td>609c9f851b00</td>\n",
       "      <td>002688cd5fc7</td>\n",
       "      <td>0x0800</td>\n",
       "      <td>11.0</td>\n",
       "      <td>919</td>\n",
       "      <td>155.69.160.32</td>\n",
       "      <td>...</td>\n",
       "      <td>17</td>\n",
       "      <td>0x00</td>\n",
       "      <td>120</td>\n",
       "      <td>54241.0</td>\n",
       "      <td>26510</td>\n",
       "      <td>0x10</td>\n",
       "      <td>116</td>\n",
       "      <td>94</td>\n",
       "      <td>2048</td>\n",
       "      <td>NaN</td>\n",
       "    </tr>\n",
       "    <tr>\n",
       "      <th>3</th>\n",
       "      <td>FLOW</td>\n",
       "      <td>aa.aa.aa.aa</td>\n",
       "      <td>130</td>\n",
       "      <td>199</td>\n",
       "      <td>00239cd087c1</td>\n",
       "      <td>544b8cf9a7df</td>\n",
       "      <td>0x0800</td>\n",
       "      <td>919.0</td>\n",
       "      <td>600</td>\n",
       "      <td>137.132.228.15</td>\n",
       "      <td>...</td>\n",
       "      <td>6</td>\n",
       "      <td>0x00</td>\n",
       "      <td>56</td>\n",
       "      <td>53923.0</td>\n",
       "      <td>34262</td>\n",
       "      <td>0x10</td>\n",
       "      <td>70</td>\n",
       "      <td>52</td>\n",
       "      <td>2048</td>\n",
       "      <td>NaN</td>\n",
       "    </tr>\n",
       "    <tr>\n",
       "      <th>4</th>\n",
       "      <td>FLOW</td>\n",
       "      <td>aa.aa.aa.aa</td>\n",
       "      <td>129</td>\n",
       "      <td>135</td>\n",
       "      <td>609c9f851b00</td>\n",
       "      <td>002688cd5fc7</td>\n",
       "      <td>0x0800</td>\n",
       "      <td>11.0</td>\n",
       "      <td>919</td>\n",
       "      <td>155.69.160.32</td>\n",
       "      <td>...</td>\n",
       "      <td>17</td>\n",
       "      <td>0x00</td>\n",
       "      <td>120</td>\n",
       "      <td>55069.0</td>\n",
       "      <td>26509</td>\n",
       "      <td>0x10</td>\n",
       "      <td>113</td>\n",
       "      <td>91</td>\n",
       "      <td>2048</td>\n",
       "      <td>NaN</td>\n",
       "    </tr>\n",
       "  </tbody>\n",
       "</table>\n",
       "<p>5 rows × 21 columns</p>\n",
       "</div>"
      ],
      "text/plain": [
       "   TYPE SFLOW_AGENT_ADDRESS  INPUTPORT  OUTPUTPORT       SRC_MAC  \\\n",
       "0  FLOW         aa.aa.aa.aa        129         193  609c9f851b00   \n",
       "1  FLOW         aa.aa.aa.aa        137         200  d404ff55fd4d   \n",
       "2  FLOW         aa.aa.aa.aa        129         135  609c9f851b00   \n",
       "3  FLOW         aa.aa.aa.aa        130         199  00239cd087c1   \n",
       "4  FLOW         aa.aa.aa.aa        129         135  609c9f851b00   \n",
       "\n",
       "        DST_MAC ETHERNET_TYPE  IN_VLAN  OUT_VLAN          SRC_IP  ...  \\\n",
       "0  0031466b23cf        0x0800     11.0       919   155.69.160.32  ...   \n",
       "1  80711fc76001        0x0800    919.0       280  130.246.176.53  ...   \n",
       "2  002688cd5fc7        0x0800     11.0       919   155.69.160.32  ...   \n",
       "3  544b8cf9a7df        0x0800    919.0       600  137.132.228.15  ...   \n",
       "4  002688cd5fc7        0x0800     11.0       919   155.69.160.32  ...   \n",
       "\n",
       "  IP_PROTOCOL  IP_TOS IP_TTL  UDP_SRC_PORT/TCP_SRC_PORT/ICMP_TYPE  \\\n",
       "0           6    0x00     56                              23159.0   \n",
       "1           6    0x00     50                              50041.0   \n",
       "2          17    0x00    120                              54241.0   \n",
       "3           6    0x00     56                              53923.0   \n",
       "4          17    0x00    120                              55069.0   \n",
       "\n",
       "   UDP_DST_PORT/TCP_DST_PORT/ICMP_CODE  TCP_FLAGS PACKET_SIZE  IP_SIZE  \\\n",
       "0                                   80       0x10          74       52   \n",
       "1                                20739       0x10        1518     1500   \n",
       "2                                26510       0x10         116       94   \n",
       "3                                34262       0x10          70       52   \n",
       "4                                26509       0x10         113       91   \n",
       "\n",
       "   SAMPLING RATE  20  \n",
       "0           2048 NaN  \n",
       "1           2048 NaN  \n",
       "2           2048 NaN  \n",
       "3           2048 NaN  \n",
       "4           2048 NaN  \n",
       "\n",
       "[5 rows x 21 columns]"
      ]
     },
     "execution_count": 7,
     "metadata": {},
     "output_type": "execute_result"
    }
   ],
   "source": [
    "datafile = \"SFlow_Data_lab4.csv\"\n",
    "cols = [\n",
    "    'type', 'sflow_agent_address', 'inputPort', 'outputPort', 'src_MAC', \n",
    "    'dst_MAC', 'ethernet_type', 'in_vlan', 'out_vlan', 'src_IP', \n",
    "    'dst_IP', 'IP_protocol', 'ip_tos', 'ip_ttl', 'udp_src_port/tcp_src_port/icmp_type', \n",
    "    'udp_dst_port/tcp_dst_port/icmp_code', 'tcp_flags', 'packet_size', 'IP_size', 'sampling rate','20'\n",
    "]\n",
    "data = pd.read_csv(datafile) # for testing first\n",
    "#cleaning the data\n",
    "data.columns = cols\n",
    "data.columns = data.columns.str.upper()\n",
    "data.head()"
   ]
  },
  {
   "cell_type": "code",
   "execution_count": 8,
   "metadata": {},
   "outputs": [
    {
     "name": "stdout",
     "output_type": "stream",
     "text": [
      "<class 'pandas.core.frame.DataFrame'>\n",
      "RangeIndex: 69369 entries, 0 to 69368\n",
      "Data columns (total 21 columns):\n",
      "TYPE                                   69369 non-null object\n",
      "SFLOW_AGENT_ADDRESS                    69369 non-null object\n",
      "INPUTPORT                              69369 non-null int64\n",
      "OUTPUTPORT                             69369 non-null int64\n",
      "SRC_MAC                                69369 non-null object\n",
      "DST_MAC                                69369 non-null object\n",
      "ETHERNET_TYPE                          69369 non-null object\n",
      "IN_VLAN                                69369 non-null float64\n",
      "OUT_VLAN                               69369 non-null int64\n",
      "SRC_IP                                 69369 non-null object\n",
      "DST_IP                                 69369 non-null object\n",
      "IP_PROTOCOL                            69369 non-null int64\n",
      "IP_TOS                                 69369 non-null object\n",
      "IP_TTL                                 69369 non-null int64\n",
      "UDP_SRC_PORT/TCP_SRC_PORT/ICMP_TYPE    69369 non-null float64\n",
      "UDP_DST_PORT/TCP_DST_PORT/ICMP_CODE    69369 non-null int64\n",
      "TCP_FLAGS                              69369 non-null object\n",
      "PACKET_SIZE                            69369 non-null int64\n",
      "IP_SIZE                                69369 non-null int64\n",
      "SAMPLING RATE                          69369 non-null int64\n",
      "20                                     1305 non-null float64\n",
      "dtypes: float64(3), int64(9), object(9)\n",
      "memory usage: 11.1+ MB\n"
     ]
    }
   ],
   "source": [
    "data.info()"
   ]
  },
  {
   "cell_type": "markdown",
   "metadata": {},
   "source": [
    "# Lab 4 exercises"
   ]
  },
  {
   "cell_type": "markdown",
   "metadata": {},
   "source": [
    "### Function to reorder records base on its appearance times"
   ]
  },
  {
   "cell_type": "code",
   "execution_count": 9,
   "metadata": {},
   "outputs": [],
   "source": [
    "def reorder(column):\n",
    "    extracted = data[column].value_counts().to_frame()\n",
    "    extracted.columns = [\"Count\"]\n",
    "    return extracted"
   ]
  },
  {
   "cell_type": "markdown",
   "metadata": {},
   "source": [
    "## Exercise 4A: Top Talkers and Listeners"
   ]
  },
  {
   "cell_type": "code",
   "execution_count": 10,
   "metadata": {},
   "outputs": [
    {
     "data": {
      "text/html": [
       "<div>\n",
       "<style scoped>\n",
       "    .dataframe tbody tr th:only-of-type {\n",
       "        vertical-align: middle;\n",
       "    }\n",
       "\n",
       "    .dataframe tbody tr th {\n",
       "        vertical-align: top;\n",
       "    }\n",
       "\n",
       "    .dataframe thead th {\n",
       "        text-align: right;\n",
       "    }\n",
       "</style>\n",
       "<table border=\"1\" class=\"dataframe\">\n",
       "  <thead>\n",
       "    <tr style=\"text-align: right;\">\n",
       "      <th></th>\n",
       "      <th>Count</th>\n",
       "    </tr>\n",
       "  </thead>\n",
       "  <tbody>\n",
       "    <tr>\n",
       "      <th>193.62.192.8</th>\n",
       "      <td>3041</td>\n",
       "    </tr>\n",
       "    <tr>\n",
       "      <th>155.69.160.32</th>\n",
       "      <td>2975</td>\n",
       "    </tr>\n",
       "    <tr>\n",
       "      <th>130.14.250.11</th>\n",
       "      <td>2604</td>\n",
       "    </tr>\n",
       "    <tr>\n",
       "      <th>14.139.196.58</th>\n",
       "      <td>2452</td>\n",
       "    </tr>\n",
       "    <tr>\n",
       "      <th>140.112.8.139</th>\n",
       "      <td>2056</td>\n",
       "    </tr>\n",
       "  </tbody>\n",
       "</table>\n",
       "</div>"
      ],
      "text/plain": [
       "               Count\n",
       "193.62.192.8    3041\n",
       "155.69.160.32   2975\n",
       "130.14.250.11   2604\n",
       "14.139.196.58   2452\n",
       "140.112.8.139   2056"
      ]
     },
     "execution_count": 10,
     "metadata": {},
     "output_type": "execute_result"
    }
   ],
   "source": [
    "# top five talkers \n",
    "reorder(\"SRC_IP\").head()"
   ]
  },
  {
   "cell_type": "code",
   "execution_count": 38,
   "metadata": {},
   "outputs": [
    {
     "data": {
      "text/html": [
       "<div>\n",
       "<style scoped>\n",
       "    .dataframe tbody tr th:only-of-type {\n",
       "        vertical-align: middle;\n",
       "    }\n",
       "\n",
       "    .dataframe tbody tr th {\n",
       "        vertical-align: top;\n",
       "    }\n",
       "\n",
       "    .dataframe thead th {\n",
       "        text-align: right;\n",
       "    }\n",
       "</style>\n",
       "<table border=\"1\" class=\"dataframe\">\n",
       "  <thead>\n",
       "    <tr style=\"text-align: right;\">\n",
       "      <th></th>\n",
       "      <th>Count</th>\n",
       "    </tr>\n",
       "  </thead>\n",
       "  <tbody>\n",
       "    <tr>\n",
       "      <th>198.71.44.98</th>\n",
       "      <td>125</td>\n",
       "    </tr>\n",
       "    <tr>\n",
       "      <th>103.37.198.100</th>\n",
       "      <td>98</td>\n",
       "    </tr>\n",
       "    <tr>\n",
       "      <th>210.48.222.9</th>\n",
       "      <td>66</td>\n",
       "    </tr>\n",
       "    <tr>\n",
       "      <th>137.132.228.15</th>\n",
       "      <td>50</td>\n",
       "    </tr>\n",
       "    <tr>\n",
       "      <th>202.21.159.244</th>\n",
       "      <td>38</td>\n",
       "    </tr>\n",
       "  </tbody>\n",
       "</table>\n",
       "</div>"
      ],
      "text/plain": [
       "                Count\n",
       "198.71.44.98      125\n",
       "103.37.198.100     98\n",
       "210.48.222.9       66\n",
       "137.132.228.15     50\n",
       "202.21.159.244     38"
      ]
     },
     "execution_count": 38,
     "metadata": {},
     "output_type": "execute_result"
    }
   ],
   "source": [
    "# top five listeners\n",
    "reorder(\"DST_IP\").head()"
   ]
  },
  {
   "cell_type": "markdown",
   "metadata": {},
   "source": [
    "## Exercise 4B: Application Protocol\n",
    "- Port numbers define application service requested"
   ]
  },
  {
   "cell_type": "code",
   "execution_count": 39,
   "metadata": {},
   "outputs": [
    {
     "data": {
      "text/html": [
       "<div>\n",
       "<style scoped>\n",
       "    .dataframe tbody tr th:only-of-type {\n",
       "        vertical-align: middle;\n",
       "    }\n",
       "\n",
       "    .dataframe tbody tr th {\n",
       "        vertical-align: top;\n",
       "    }\n",
       "\n",
       "    .dataframe thead th {\n",
       "        text-align: right;\n",
       "    }\n",
       "</style>\n",
       "<table border=\"1\" class=\"dataframe\">\n",
       "  <thead>\n",
       "    <tr style=\"text-align: right;\">\n",
       "      <th></th>\n",
       "      <th>Count</th>\n",
       "    </tr>\n",
       "  </thead>\n",
       "  <tbody>\n",
       "    <tr>\n",
       "      <th>443</th>\n",
       "      <td>234</td>\n",
       "    </tr>\n",
       "    <tr>\n",
       "      <th>56152</th>\n",
       "      <td>82</td>\n",
       "    </tr>\n",
       "    <tr>\n",
       "      <th>0</th>\n",
       "      <td>81</td>\n",
       "    </tr>\n",
       "    <tr>\n",
       "      <th>43930</th>\n",
       "      <td>45</td>\n",
       "    </tr>\n",
       "    <tr>\n",
       "      <th>80</th>\n",
       "      <td>37</td>\n",
       "    </tr>\n",
       "  </tbody>\n",
       "</table>\n",
       "</div>"
      ],
      "text/plain": [
       "       Count\n",
       "443      234\n",
       "56152     82\n",
       "0         81\n",
       "43930     45\n",
       "80        37"
      ]
     },
     "execution_count": 39,
     "metadata": {},
     "output_type": "execute_result"
    }
   ],
   "source": [
    "reorder(\"UDP_DST_PORT/TCP_DST_PORT/ICMP_CODE\").head()"
   ]
  },
  {
   "cell_type": "markdown",
   "metadata": {},
   "source": [
    "- **443**: HyperText Transfer Protocol Secure (HTTPS)\n",
    "\n",
    "\n",
    "- **0**: Reserve port, should not be used by UDP/TCP\n",
    "\n",
    "\n",
    "- **56152, 43930**: Private ports.\n",
    "\n",
    "\n",
    "- **80**: HyperText Transfer Protocol (HTTP) "
   ]
  },
  {
   "cell_type": "markdown",
   "metadata": {},
   "source": [
    "## Exercise 4C: Traffic Intensity\n",
    "\n",
    "- Using the packet sizes of all packers , can calculate the total traffic intensity  "
   ]
  },
  {
   "cell_type": "code",
   "execution_count": 47,
   "metadata": {},
   "outputs": [
    {
     "name": "stdout",
     "output_type": "stream",
     "text": [
      "Total data for 1199 packets is: 789.83 MBs\n"
     ]
    }
   ],
   "source": [
    "packet_size = data[\"PACKET_SIZE\"]\n",
    "\n",
    "count = len(packet_size)\n",
    "total = round(sum(packet_size) / (2 ** 20), 2) # convert to MegaByte\n",
    "\n",
    "print(\"Total data for {} packets is: {} MBs\".format(count, total))"
   ]
  },
  {
   "cell_type": "markdown",
   "metadata": {},
   "source": [
    "## Exercise 4D: Proportion of TCP and UDP\n",
    "\n",
    "### - **TCP : 6**\n",
    "\n",
    "### - **UDP : 17**"
   ]
  },
  {
   "cell_type": "code",
   "execution_count": 87,
   "metadata": {},
   "outputs": [
    {
     "name": "stdout",
     "output_type": "stream",
     "text": [
      "<class 'pandas.core.series.Series'>\n",
      "As observed, there are 879 packets which correspond to TCP protocols and 135 packets which correspond to UDP protocols out of total 1199 packets\n"
     ]
    }
   ],
   "source": [
    "ip_protocols = data[\"IP_PROTOCOL\"].value_counts()\n",
    "\n",
    "# extracted number of TCP and UDP count\n",
    "tcp = ip_protocols[6]\n",
    "udp = ip_protocols[17]\n",
    "\n",
    "print(\"As observed, there are {} packets which correspond to TCP protocols and {} packets which correspond to UDP protocols out of total {} packets\".format(tcp, udp, len(data)))"
   ]
  },
  {
   "cell_type": "code",
   "execution_count": 69,
   "metadata": {},
   "outputs": [
    {
     "data": {
      "text/html": [
       "<div>\n",
       "<style scoped>\n",
       "    .dataframe tbody tr th:only-of-type {\n",
       "        vertical-align: middle;\n",
       "    }\n",
       "\n",
       "    .dataframe tbody tr th {\n",
       "        vertical-align: top;\n",
       "    }\n",
       "\n",
       "    .dataframe thead th {\n",
       "        text-align: right;\n",
       "    }\n",
       "</style>\n",
       "<table border=\"1\" class=\"dataframe\">\n",
       "  <thead>\n",
       "    <tr style=\"text-align: right;\">\n",
       "      <th></th>\n",
       "      <th>Percentage</th>\n",
       "    </tr>\n",
       "  </thead>\n",
       "  <tbody>\n",
       "    <tr>\n",
       "      <th>TCP</th>\n",
       "      <td>73.311093</td>\n",
       "    </tr>\n",
       "    <tr>\n",
       "      <th>UDP</th>\n",
       "      <td>11.259383</td>\n",
       "    </tr>\n",
       "  </tbody>\n",
       "</table>\n",
       "</div>"
      ],
      "text/plain": [
       "     Percentage\n",
       "TCP   73.311093\n",
       "UDP   11.259383"
      ]
     },
     "execution_count": 69,
     "metadata": {},
     "output_type": "execute_result"
    }
   ],
   "source": [
    "ex4D = pd.DataFrame([tcp * 100 / len(data), udp * 100 / len(data)], index = [\"TCP\", \"UDP\"], columns = [\"Percentage\"])\n",
    "ex4D"
   ]
  },
  {
   "cell_type": "markdown",
   "metadata": {},
   "source": [
    "## Exercise 4E: Top 5 Communication Pair"
   ]
  },
  {
   "cell_type": "code",
   "execution_count": 134,
   "metadata": {},
   "outputs": [
    {
     "data": {
      "text/html": [
       "<div>\n",
       "<style scoped>\n",
       "    .dataframe tbody tr th:only-of-type {\n",
       "        vertical-align: middle;\n",
       "    }\n",
       "\n",
       "    .dataframe tbody tr th {\n",
       "        vertical-align: top;\n",
       "    }\n",
       "\n",
       "    .dataframe thead th {\n",
       "        text-align: right;\n",
       "    }\n",
       "</style>\n",
       "<table border=\"1\" class=\"dataframe\">\n",
       "  <thead>\n",
       "    <tr style=\"text-align: right;\">\n",
       "      <th></th>\n",
       "      <th></th>\n",
       "      <th>COUNT</th>\n",
       "    </tr>\n",
       "    <tr>\n",
       "      <th>SRC_IP</th>\n",
       "      <th>DST_IP</th>\n",
       "      <th></th>\n",
       "    </tr>\n",
       "  </thead>\n",
       "  <tbody>\n",
       "    <tr>\n",
       "      <th>152.3.219.19</th>\n",
       "      <th>198.71.44.98</th>\n",
       "      <td>125</td>\n",
       "    </tr>\n",
       "    <tr>\n",
       "      <th>207.241.228.157</th>\n",
       "      <th>210.48.222.9</th>\n",
       "      <td>66</td>\n",
       "    </tr>\n",
       "    <tr>\n",
       "      <th>130.14.250.13</th>\n",
       "      <th>103.37.198.100</th>\n",
       "      <td>63</td>\n",
       "    </tr>\n",
       "    <tr>\n",
       "      <th>193.62.192.8</th>\n",
       "      <th>137.132.228.15</th>\n",
       "      <td>46</td>\n",
       "    </tr>\n",
       "    <tr>\n",
       "      <th>130.14.250.11</th>\n",
       "      <th>103.37.198.100</th>\n",
       "      <td>35</td>\n",
       "    </tr>\n",
       "  </tbody>\n",
       "</table>\n",
       "</div>"
      ],
      "text/plain": [
       "                                COUNT\n",
       "SRC_IP          DST_IP               \n",
       "152.3.219.19    198.71.44.98      125\n",
       "207.241.228.157 210.48.222.9       66\n",
       "130.14.250.13   103.37.198.100     63\n",
       "193.62.192.8    137.132.228.15     46\n",
       "130.14.250.11   103.37.198.100     35"
      ]
     },
     "execution_count": 134,
     "metadata": {},
     "output_type": "execute_result"
    }
   ],
   "source": [
    "# sort in descending order\n",
    "ex4E = data.groupby([\"SRC_IP\", \"DST_IP\"]).size().sort_values(ascending = False).to_frame().head()\n",
    "ex4E.columns = [\"COUNT\"]\n",
    "ex4E"
   ]
  },
  {
   "cell_type": "markdown",
   "metadata": {},
   "source": [
    "## Exercise 4F: Visualizing Communication between \n",
    "\n",
    "## different IP hosts for top 5 pair"
   ]
  },
  {
   "cell_type": "code",
   "execution_count": 152,
   "metadata": {},
   "outputs": [
    {
     "data": {
      "image/png": "[encoded data removed]",
      "text/plain": [
       "<Figure size 1440x720 with 1 Axes>"
      ]
     },
     "metadata": {
      "needs_background": "light"
     },
     "output_type": "display_data"
    }
   ],
   "source": [
    "row = [i[0] + \"-\" + i[1] for i in ex4E.index] \n",
    "f,axes = plt.subplots(1, 1, figsize = (20, 10))\n",
    "plt.bar(row, ex4E[\"COUNT\"], align = \"center\", color = \"g\")\n",
    "plt.xlabel(\"Peer-to-Peer\", fontsize = 25)\n",
    "plt.ylabel(\"Count (No of packets)\", fontsize = 25)\n",
    "plt.title(\"Communication Pairs\", fontsize = 30)\n",
    "for i, v in enumerate(ex4E[\"COUNT\"]):\n",
    "    axes.text(i, v + 0.5, str(v),color = \"red\", fontsize = 20)\n",
    "plt.show()"
   ]
  },
  {
   "cell_type": "code",
   "execution_count": null,
   "metadata": {},
   "outputs": [],
   "source": []
  },
  {
   "cell_type": "code",
   "execution_count": null,
   "metadata": {},
   "outputs": [],
   "source": []
  }
 ],
 "metadata": {
  "kernelspec": {
   "display_name": "Python 3",
   "language": "python",
   "name": "python3"
  },
  "language_info": {
   "codemirror_mode": {
    "name": "ipython",
    "version": 3
   },
   "file_extension": ".py",
   "mimetype": "text/x-python",
   "name": "python",
   "nbconvert_exporter": "python",
   "pygments_lexer": "ipython3",
   "version": "3.6.0"
  }
 },
 "nbformat": 4,
 "nbformat_minor": 2
}
