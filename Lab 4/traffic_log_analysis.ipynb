{
 "cells": [
  {
   "cell_type": "markdown",
   "metadata": {},
   "source": [
    "# Net Centric Computing CZ3006 Lab 4 - Analysis Traffic log data "
   ]
  },
  {
   "cell_type": "code",
   "execution_count": 1,
   "metadata": {},
   "outputs": [],
   "source": [
    "# importing all required Python libraries for analysis\n",
    "import pandas as pd\n",
    "import numpy as np\n",
    "import matplotlib.pyplot as plt "
   ]
  },
  {
   "cell_type": "markdown",
   "metadata": {},
   "source": [
    "## Import the data log "
   ]
  },
  {
   "cell_type": "code",
   "execution_count": 13,
   "metadata": {},
   "outputs": [
    {
     "data": {
      "text/html": [
       "<div>\n",
       "<style scoped>\n",
       "    .dataframe tbody tr th:only-of-type {\n",
       "        vertical-align: middle;\n",
       "    }\n",
       "\n",
       "    .dataframe tbody tr th {\n",
       "        vertical-align: top;\n",
       "    }\n",
       "\n",
       "    .dataframe thead th {\n",
       "        text-align: right;\n",
       "    }\n",
       "</style>\n",
       "<table border=\"1\" class=\"dataframe\">\n",
       "  <thead>\n",
       "    <tr style=\"text-align: right;\">\n",
       "      <th></th>\n",
       "      <th>TYPE</th>\n",
       "      <th>SFLOW_AGENT_ADDRESS</th>\n",
       "      <th>INPUT_PORT</th>\n",
       "      <th>OUTPUT_PORT</th>\n",
       "      <th>SRC_MAC</th>\n",
       "      <th>DST_MAC</th>\n",
       "      <th>ETHERNET_TYPE</th>\n",
       "      <th>IN_VLAN</th>\n",
       "      <th>OUT_VLAN</th>\n",
       "      <th>SRC_IP</th>\n",
       "      <th>DEST_IP</th>\n",
       "      <th>IP_PROTOCOL</th>\n",
       "      <th>IP_TOS</th>\n",
       "      <th>IP_TTL</th>\n",
       "      <th>SRC_IP_PORT</th>\n",
       "      <th>DESTINATION_IP_PORT</th>\n",
       "      <th>TCP_FLAGS</th>\n",
       "      <th>PACKET_SIZE</th>\n",
       "      <th>IP_SIZE</th>\n",
       "      <th>SAMPLING RATE</th>\n",
       "    </tr>\n",
       "  </thead>\n",
       "  <tbody>\n",
       "    <tr>\n",
       "      <th>0</th>\n",
       "      <td>FLOW</td>\n",
       "      <td>aa.aa.aa.aa</td>\n",
       "      <td>129</td>\n",
       "      <td>193</td>\n",
       "      <td>609c9f851b00</td>\n",
       "      <td>0031466b23cf</td>\n",
       "      <td>0x0800</td>\n",
       "      <td>11.0</td>\n",
       "      <td>919</td>\n",
       "      <td>155.69.160.32</td>\n",
       "      <td>64.233.188.128</td>\n",
       "      <td>6</td>\n",
       "      <td>0x00</td>\n",
       "      <td>56</td>\n",
       "      <td>23159.0</td>\n",
       "      <td>80</td>\n",
       "      <td>0x10</td>\n",
       "      <td>74</td>\n",
       "      <td>52</td>\n",
       "      <td>2048</td>\n",
       "    </tr>\n",
       "    <tr>\n",
       "      <th>1</th>\n",
       "      <td>FLOW</td>\n",
       "      <td>aa.aa.aa.aa</td>\n",
       "      <td>137</td>\n",
       "      <td>200</td>\n",
       "      <td>d404ff55fd4d</td>\n",
       "      <td>80711fc76001</td>\n",
       "      <td>0x0800</td>\n",
       "      <td>919.0</td>\n",
       "      <td>280</td>\n",
       "      <td>130.246.176.53</td>\n",
       "      <td>140.115.32.83</td>\n",
       "      <td>6</td>\n",
       "      <td>0x00</td>\n",
       "      <td>50</td>\n",
       "      <td>50041.0</td>\n",
       "      <td>20739</td>\n",
       "      <td>0x10</td>\n",
       "      <td>1518</td>\n",
       "      <td>1500</td>\n",
       "      <td>2048</td>\n",
       "    </tr>\n",
       "    <tr>\n",
       "      <th>2</th>\n",
       "      <td>FLOW</td>\n",
       "      <td>aa.aa.aa.aa</td>\n",
       "      <td>129</td>\n",
       "      <td>135</td>\n",
       "      <td>609c9f851b00</td>\n",
       "      <td>002688cd5fc7</td>\n",
       "      <td>0x0800</td>\n",
       "      <td>11.0</td>\n",
       "      <td>919</td>\n",
       "      <td>155.69.160.32</td>\n",
       "      <td>54.169.174.79</td>\n",
       "      <td>17</td>\n",
       "      <td>0x00</td>\n",
       "      <td>120</td>\n",
       "      <td>54241.0</td>\n",
       "      <td>26510</td>\n",
       "      <td>0x10</td>\n",
       "      <td>116</td>\n",
       "      <td>94</td>\n",
       "      <td>2048</td>\n",
       "    </tr>\n",
       "    <tr>\n",
       "      <th>3</th>\n",
       "      <td>FLOW</td>\n",
       "      <td>aa.aa.aa.aa</td>\n",
       "      <td>130</td>\n",
       "      <td>199</td>\n",
       "      <td>00239cd087c1</td>\n",
       "      <td>544b8cf9a7df</td>\n",
       "      <td>0x0800</td>\n",
       "      <td>919.0</td>\n",
       "      <td>600</td>\n",
       "      <td>137.132.228.15</td>\n",
       "      <td>193.62.192.8</td>\n",
       "      <td>6</td>\n",
       "      <td>0x00</td>\n",
       "      <td>56</td>\n",
       "      <td>53923.0</td>\n",
       "      <td>34262</td>\n",
       "      <td>0x10</td>\n",
       "      <td>70</td>\n",
       "      <td>52</td>\n",
       "      <td>2048</td>\n",
       "    </tr>\n",
       "    <tr>\n",
       "      <th>4</th>\n",
       "      <td>FLOW</td>\n",
       "      <td>aa.aa.aa.aa</td>\n",
       "      <td>129</td>\n",
       "      <td>135</td>\n",
       "      <td>609c9f851b00</td>\n",
       "      <td>002688cd5fc7</td>\n",
       "      <td>0x0800</td>\n",
       "      <td>11.0</td>\n",
       "      <td>919</td>\n",
       "      <td>155.69.160.32</td>\n",
       "      <td>54.255.221.151</td>\n",
       "      <td>17</td>\n",
       "      <td>0x00</td>\n",
       "      <td>120</td>\n",
       "      <td>55069.0</td>\n",
       "      <td>26509</td>\n",
       "      <td>0x10</td>\n",
       "      <td>113</td>\n",
       "      <td>91</td>\n",
       "      <td>2048</td>\n",
       "    </tr>\n",
       "  </tbody>\n",
       "</table>\n",
       "</div>"
      ],
      "text/plain": [
       "   TYPE SFLOW_AGENT_ADDRESS  INPUT_PORT  OUTPUT_PORT       SRC_MAC  \\\n",
       "0  FLOW         aa.aa.aa.aa         129          193  609c9f851b00   \n",
       "1  FLOW         aa.aa.aa.aa         137          200  d404ff55fd4d   \n",
       "2  FLOW         aa.aa.aa.aa         129          135  609c9f851b00   \n",
       "3  FLOW         aa.aa.aa.aa         130          199  00239cd087c1   \n",
       "4  FLOW         aa.aa.aa.aa         129          135  609c9f851b00   \n",
       "\n",
       "        DST_MAC ETHERNET_TYPE  IN_VLAN  OUT_VLAN          SRC_IP  \\\n",
       "0  0031466b23cf        0x0800     11.0       919   155.69.160.32   \n",
       "1  80711fc76001        0x0800    919.0       280  130.246.176.53   \n",
       "2  002688cd5fc7        0x0800     11.0       919   155.69.160.32   \n",
       "3  544b8cf9a7df        0x0800    919.0       600  137.132.228.15   \n",
       "4  002688cd5fc7        0x0800     11.0       919   155.69.160.32   \n",
       "\n",
       "          DEST_IP  IP_PROTOCOL IP_TOS  IP_TTL  SRC_IP_PORT  \\\n",
       "0  64.233.188.128            6   0x00      56      23159.0   \n",
       "1   140.115.32.83            6   0x00      50      50041.0   \n",
       "2   54.169.174.79           17   0x00     120      54241.0   \n",
       "3    193.62.192.8            6   0x00      56      53923.0   \n",
       "4  54.255.221.151           17   0x00     120      55069.0   \n",
       "\n",
       "   DESTINATION_IP_PORT TCP_FLAGS  PACKET_SIZE  IP_SIZE  SAMPLING RATE  \n",
       "0                   80      0x10           74       52           2048  \n",
       "1                20739      0x10         1518     1500           2048  \n",
       "2                26510      0x10          116       94           2048  \n",
       "3                34262      0x10           70       52           2048  \n",
       "4                26509      0x10          113       91           2048  "
      ]
     },
     "execution_count": 13,
     "metadata": {},
     "output_type": "execute_result"
    }
   ],
   "source": [
    "datafile = \"SFlow_Data_lab4.csv\"\n",
    "cols = [\n",
    "    'type', 'sflow_agent_address', 'input_Port', 'output_Port', 'src_MAC', \n",
    "    'dst_MAC', 'ethernet_type', 'in_vlan', 'out_vlan', 'src_IP', \n",
    "    'dest_IP', 'IP_protocol', 'ip_tos', 'ip_ttl', 'src_ip_port', \n",
    "    'destination_ip_port', 'tcp_flags', 'packet_size', 'IP_size', 'sampling rate'\n",
    "]\n",
    "data = pd.read_csv(datafile) # for testing first\n",
    "data = data.iloc[:, :20] # retrieve 20 index columns\n",
    "#cleaning the data\n",
    "data.columns = cols\n",
    "data.columns = data.columns.str.upper()\n",
    "#first 5 values of the log data\n",
    "data.head()"
   ]
  },
  {
   "cell_type": "code",
   "execution_count": 3,
   "metadata": {},
   "outputs": [
    {
     "name": "stdout",
     "output_type": "stream",
     "text": [
      "<class 'pandas.core.frame.DataFrame'>\n",
      "RangeIndex: 69369 entries, 0 to 69368\n",
      "Data columns (total 20 columns):\n",
      "TYPE                   69369 non-null object\n",
      "SFLOW_AGENT_ADDRESS    69369 non-null object\n",
      "INPUT_PORT             69369 non-null int64\n",
      "OUTPUT_PORT            69369 non-null int64\n",
      "SRC_MAC                69369 non-null object\n",
      "DST_MAC                69369 non-null object\n",
      "ETHERNET_TYPE          69369 non-null object\n",
      "IN_VLAN                69369 non-null float64\n",
      "OUT_VLAN               69369 non-null int64\n",
      "SRC_IP                 69369 non-null object\n",
      "DEST_IP                69369 non-null object\n",
      "IP_PROTOCOL            69369 non-null int64\n",
      "IP_TOS                 69369 non-null object\n",
      "IP_TTL                 69369 non-null int64\n",
      "SRC_IP_PORT            69369 non-null float64\n",
      "DESTINATION_IP_PORT    69369 non-null int64\n",
      "TCP_FLAGS              69369 non-null object\n",
      "PACKET_SIZE            69369 non-null int64\n",
      "IP_SIZE                69369 non-null int64\n",
      "SAMPLING RATE          69369 non-null int64\n",
      "dtypes: float64(2), int64(9), object(9)\n",
      "memory usage: 10.6+ MB\n"
     ]
    }
   ],
   "source": [
    "data.info()"
   ]
  },
  {
   "cell_type": "markdown",
   "metadata": {},
   "source": [
    "# Lab 4 exercises"
   ]
  },
  {
   "cell_type": "markdown",
   "metadata": {},
   "source": [
    "### Function to reorder records base on its appearance times"
   ]
  },
  {
   "cell_type": "code",
   "execution_count": 4,
   "metadata": {},
   "outputs": [],
   "source": [
    "import json, requests\n",
    "api_key = \"b97929392d4d4885a7ce59e0c9a82985\"\n",
    "# this function use the geolocation API for retrieving the organization information w.r.t an ip address\n",
    "# at the time when the author code, the api_ket is worked, however, it might not worked the time being reviewed, the API key should be change to be able to successfully viewed the organization w.r.t an ip\n",
    "def retrieve_organization(ip):\n",
    "    api_endpoint = \"https://api.ipgeolocation.io/ipgeo?apiKey=\" + api_key + \"&ip=\" + ip\n",
    "    response = requests.get(api_endpoint)\n",
    "    return response.json()[\"organization\"]\n",
    "# retrieve top 5 talkers | listeners together with its binding organization\n",
    "def reorder(column):\n",
    "    extracted = data[column].value_counts().head()\n",
    "    extracted = extracted.reset_index()\n",
    "    extracted.columns = [column, \"Count\"]\n",
    "    # append the Organization column in case the column need analysis is Source IP or Destination IP \n",
    "    if (column in [\"SRC_IP\", \"DEST_IP\"]):\n",
    "        organization = [retrieve_organization(ip) for ip in extracted[column]]\n",
    "        extracted[\"Organization\"] = pd.DataFrame(organization)\n",
    "    return extracted"
   ]
  },
  {
   "cell_type": "markdown",
   "metadata": {},
   "source": [
    "## Exercise 4A: Top Talkers and Listeners"
   ]
  },
  {
   "cell_type": "code",
   "execution_count": 5,
   "metadata": {},
   "outputs": [
    {
     "data": {
      "text/html": [
       "<div>\n",
       "<style scoped>\n",
       "    .dataframe tbody tr th:only-of-type {\n",
       "        vertical-align: middle;\n",
       "    }\n",
       "\n",
       "    .dataframe tbody tr th {\n",
       "        vertical-align: top;\n",
       "    }\n",
       "\n",
       "    .dataframe thead th {\n",
       "        text-align: right;\n",
       "    }\n",
       "</style>\n",
       "<table border=\"1\" class=\"dataframe\">\n",
       "  <thead>\n",
       "    <tr style=\"text-align: right;\">\n",
       "      <th></th>\n",
       "      <th>SRC_IP</th>\n",
       "      <th>Count</th>\n",
       "      <th>Organization</th>\n",
       "    </tr>\n",
       "  </thead>\n",
       "  <tbody>\n",
       "    <tr>\n",
       "      <th>0</th>\n",
       "      <td>193.62.192.8</td>\n",
       "      <td>3041</td>\n",
       "      <td>Jisc Services Limited</td>\n",
       "    </tr>\n",
       "    <tr>\n",
       "      <th>1</th>\n",
       "      <td>155.69.160.32</td>\n",
       "      <td>2975</td>\n",
       "      <td>Nanyang Technological University</td>\n",
       "    </tr>\n",
       "    <tr>\n",
       "      <th>2</th>\n",
       "      <td>130.14.250.11</td>\n",
       "      <td>2604</td>\n",
       "      <td>National Library of Medicine</td>\n",
       "    </tr>\n",
       "    <tr>\n",
       "      <th>3</th>\n",
       "      <td>14.139.196.58</td>\n",
       "      <td>2452</td>\n",
       "      <td>National Knowledge Network</td>\n",
       "    </tr>\n",
       "    <tr>\n",
       "      <th>4</th>\n",
       "      <td>140.112.8.139</td>\n",
       "      <td>2056</td>\n",
       "      <td>National Taiwan University</td>\n",
       "    </tr>\n",
       "  </tbody>\n",
       "</table>\n",
       "</div>"
      ],
      "text/plain": [
       "          SRC_IP  Count                      Organization\n",
       "0   193.62.192.8   3041             Jisc Services Limited\n",
       "1  155.69.160.32   2975  Nanyang Technological University\n",
       "2  130.14.250.11   2604      National Library of Medicine\n",
       "3  14.139.196.58   2452        National Knowledge Network\n",
       "4  140.112.8.139   2056        National Taiwan University"
      ]
     },
     "execution_count": 5,
     "metadata": {},
     "output_type": "execute_result"
    }
   ],
   "source": [
    "# top five talkers \n",
    "reorder(\"SRC_IP\")"
   ]
  },
  {
   "cell_type": "code",
   "execution_count": 6,
   "metadata": {},
   "outputs": [
    {
     "data": {
      "text/html": [
       "<div>\n",
       "<style scoped>\n",
       "    .dataframe tbody tr th:only-of-type {\n",
       "        vertical-align: middle;\n",
       "    }\n",
       "\n",
       "    .dataframe tbody tr th {\n",
       "        vertical-align: top;\n",
       "    }\n",
       "\n",
       "    .dataframe thead th {\n",
       "        text-align: right;\n",
       "    }\n",
       "</style>\n",
       "<table border=\"1\" class=\"dataframe\">\n",
       "  <thead>\n",
       "    <tr style=\"text-align: right;\">\n",
       "      <th></th>\n",
       "      <th>DEST_IP</th>\n",
       "      <th>Count</th>\n",
       "      <th>Organization</th>\n",
       "    </tr>\n",
       "  </thead>\n",
       "  <tbody>\n",
       "    <tr>\n",
       "      <th>0</th>\n",
       "      <td>103.37.198.100</td>\n",
       "      <td>3841</td>\n",
       "      <td>A*STAR</td>\n",
       "    </tr>\n",
       "    <tr>\n",
       "      <th>1</th>\n",
       "      <td>137.132.228.15</td>\n",
       "      <td>3715</td>\n",
       "      <td>National University of Singapore</td>\n",
       "    </tr>\n",
       "    <tr>\n",
       "      <th>2</th>\n",
       "      <td>202.21.159.244</td>\n",
       "      <td>2446</td>\n",
       "      <td>Republic Polytechnic, Singapore</td>\n",
       "    </tr>\n",
       "    <tr>\n",
       "      <th>3</th>\n",
       "      <td>192.101.107.153</td>\n",
       "      <td>2368</td>\n",
       "      <td>ESnet</td>\n",
       "    </tr>\n",
       "    <tr>\n",
       "      <th>4</th>\n",
       "      <td>103.21.126.2</td>\n",
       "      <td>2056</td>\n",
       "      <td>Indian Institute of Technology Bombay</td>\n",
       "    </tr>\n",
       "  </tbody>\n",
       "</table>\n",
       "</div>"
      ],
      "text/plain": [
       "           DEST_IP  Count                           Organization\n",
       "0   103.37.198.100   3841                                 A*STAR\n",
       "1   137.132.228.15   3715       National University of Singapore\n",
       "2   202.21.159.244   2446        Republic Polytechnic, Singapore\n",
       "3  192.101.107.153   2368                                  ESnet\n",
       "4     103.21.126.2   2056  Indian Institute of Technology Bombay"
      ]
     },
     "execution_count": 6,
     "metadata": {},
     "output_type": "execute_result"
    }
   ],
   "source": [
    "# top five listeners\n",
    "reorder(\"DEST_IP\").head()"
   ]
  },
  {
   "cell_type": "markdown",
   "metadata": {},
   "source": [
    "## Exercise 4B: Transport Protocol\n",
    "\n",
    "### - **TCP : 6**\n",
    "\n",
    "### - **UDP : 17**"
   ]
  },
  {
   "cell_type": "code",
   "execution_count": 7,
   "metadata": {},
   "outputs": [
    {
     "name": "stdout",
     "output_type": "stream",
     "text": [
      "As observed, there are 56063 packets which correspond to TCP protocols and 9462 packets which correspond to UDP protocols out of total 69369 packets\n"
     ]
    },
    {
     "data": {
      "text/plain": [
       "6     56063\n",
       "17     9462\n",
       "50     1698\n",
       "0      1261\n",
       "47      657\n",
       "Name: IP_PROTOCOL, dtype: int64"
      ]
     },
     "execution_count": 7,
     "metadata": {},
     "output_type": "execute_result"
    }
   ],
   "source": [
    "ip_protocols = data[\"IP_PROTOCOL\"].value_counts()\n",
    "# extracted number of TCP and UDP count\n",
    "tcp = ip_protocols[6]\n",
    "udp = ip_protocols[17]\n",
    "# udp and TCP numbers\n",
    "print(\"As observed, there are {} packets which correspond to TCP protocols and {} packets which correspond to UDP protocols out of total {} packets\".format(tcp, udp, len(data)))\n",
    "# top five ip_protocols\n",
    "ip_protocols.head(5)"
   ]
  },
  {
   "cell_type": "code",
   "execution_count": 8,
   "metadata": {},
   "outputs": [
    {
     "data": {
      "text/html": [
       "<div>\n",
       "<style scoped>\n",
       "    .dataframe tbody tr th:only-of-type {\n",
       "        vertical-align: middle;\n",
       "    }\n",
       "\n",
       "    .dataframe tbody tr th {\n",
       "        vertical-align: top;\n",
       "    }\n",
       "\n",
       "    .dataframe thead th {\n",
       "        text-align: right;\n",
       "    }\n",
       "</style>\n",
       "<table border=\"1\" class=\"dataframe\">\n",
       "  <thead>\n",
       "    <tr style=\"text-align: right;\">\n",
       "      <th></th>\n",
       "      <th>Percentage</th>\n",
       "    </tr>\n",
       "  </thead>\n",
       "  <tbody>\n",
       "    <tr>\n",
       "      <th>TCP</th>\n",
       "      <td>80.818521</td>\n",
       "    </tr>\n",
       "    <tr>\n",
       "      <th>UDP</th>\n",
       "      <td>13.640099</td>\n",
       "    </tr>\n",
       "  </tbody>\n",
       "</table>\n",
       "</div>"
      ],
      "text/plain": [
       "     Percentage\n",
       "TCP   80.818521\n",
       "UDP   13.640099"
      ]
     },
     "execution_count": 8,
     "metadata": {},
     "output_type": "execute_result"
    }
   ],
   "source": [
    "udp_tcp_percentage = pd.DataFrame([tcp * 100 / len(data), udp * 100 / len(data)], index = [\"TCP\", \"UDP\"], columns = [\"Percentage\"])\n",
    "udp_tcp_percentage"
   ]
  },
  {
   "cell_type": "markdown",
   "metadata": {},
   "source": [
    "## Exercise 4C: Application Protocol\n",
    "- Port numbers define application service requested"
   ]
  },
  {
   "cell_type": "code",
   "execution_count": 9,
   "metadata": {
    "scrolled": true
   },
   "outputs": [
    {
     "data": {
      "text/html": [
       "<div>\n",
       "<style scoped>\n",
       "    .dataframe tbody tr th:only-of-type {\n",
       "        vertical-align: middle;\n",
       "    }\n",
       "\n",
       "    .dataframe tbody tr th {\n",
       "        vertical-align: top;\n",
       "    }\n",
       "\n",
       "    .dataframe thead th {\n",
       "        text-align: right;\n",
       "    }\n",
       "</style>\n",
       "<table border=\"1\" class=\"dataframe\">\n",
       "  <thead>\n",
       "    <tr style=\"text-align: right;\">\n",
       "      <th></th>\n",
       "      <th>DESTINATION_IP_PORT</th>\n",
       "      <th>Count</th>\n",
       "    </tr>\n",
       "  </thead>\n",
       "  <tbody>\n",
       "    <tr>\n",
       "      <th>0</th>\n",
       "      <td>443</td>\n",
       "      <td>13423</td>\n",
       "    </tr>\n",
       "    <tr>\n",
       "      <th>1</th>\n",
       "      <td>80</td>\n",
       "      <td>2647</td>\n",
       "    </tr>\n",
       "    <tr>\n",
       "      <th>2</th>\n",
       "      <td>52866</td>\n",
       "      <td>2068</td>\n",
       "    </tr>\n",
       "    <tr>\n",
       "      <th>3</th>\n",
       "      <td>45512</td>\n",
       "      <td>1356</td>\n",
       "    </tr>\n",
       "    <tr>\n",
       "      <th>4</th>\n",
       "      <td>56152</td>\n",
       "      <td>1341</td>\n",
       "    </tr>\n",
       "  </tbody>\n",
       "</table>\n",
       "</div>"
      ],
      "text/plain": [
       "   DESTINATION_IP_PORT  Count\n",
       "0                  443  13423\n",
       "1                   80   2647\n",
       "2                52866   2068\n",
       "3                45512   1356\n",
       "4                56152   1341"
      ]
     },
     "execution_count": 9,
     "metadata": {},
     "output_type": "execute_result"
    }
   ],
   "source": [
    "reorder(\"DESTINATION_IP_PORT\").head()"
   ]
  },
  {
   "cell_type": "markdown",
   "metadata": {},
   "source": [
    "- **443**: HyperText Transfer Protocol Secure (HTTPS)\n",
    "\n",
    "\n",
    "- **80**: HyperText Transfer Protocol (HTTP) \n",
    "\n",
    "\n",
    "- **52866, 45512, 56152**: Private ports."
   ]
  },
  {
   "cell_type": "markdown",
   "metadata": {},
   "source": [
    "## Exercise 4D: Traffic Intensity\n",
    "\n",
    "- Using the packet sizes of all packers , can calculate the total traffic intensity  "
   ]
  },
  {
   "cell_type": "code",
   "execution_count": 10,
   "metadata": {},
   "outputs": [
    {
     "name": "stdout",
     "output_type": "stream",
     "text": [
      "Total data for 69369 packets is: 64776.32 MBs\n"
     ]
    }
   ],
   "source": [
    "packet_size = data[\"IP_SIZE\"]\n",
    "\n",
    "count = len(packet_size)\n",
    "total = round(sum(packet_size) / 1000, 2) # convert to MegaByte\n",
    "\n",
    "print(\"Total data for {} packets is: {} MBs\".format(count, total))"
   ]
  },
  {
   "cell_type": "markdown",
   "metadata": {},
   "source": [
    "## Exercise 4E: Top 5 Communication Pair"
   ]
  },
  {
   "cell_type": "code",
   "execution_count": 11,
   "metadata": {},
   "outputs": [
    {
     "data": {
      "text/html": [
       "<div>\n",
       "<style scoped>\n",
       "    .dataframe tbody tr th:only-of-type {\n",
       "        vertical-align: middle;\n",
       "    }\n",
       "\n",
       "    .dataframe tbody tr th {\n",
       "        vertical-align: top;\n",
       "    }\n",
       "\n",
       "    .dataframe thead th {\n",
       "        text-align: right;\n",
       "    }\n",
       "</style>\n",
       "<table border=\"1\" class=\"dataframe\">\n",
       "  <thead>\n",
       "    <tr style=\"text-align: right;\">\n",
       "      <th></th>\n",
       "      <th></th>\n",
       "      <th>COUNT</th>\n",
       "    </tr>\n",
       "    <tr>\n",
       "      <th>SRC_IP</th>\n",
       "      <th>DEST_IP</th>\n",
       "      <th></th>\n",
       "    </tr>\n",
       "  </thead>\n",
       "  <tbody>\n",
       "    <tr>\n",
       "      <th>193.62.192.8</th>\n",
       "      <th>137.132.228.15</th>\n",
       "      <td>3041</td>\n",
       "    </tr>\n",
       "    <tr>\n",
       "      <th>130.14.250.11</th>\n",
       "      <th>103.37.198.100</th>\n",
       "      <td>2599</td>\n",
       "    </tr>\n",
       "    <tr>\n",
       "      <th>14.139.196.58</th>\n",
       "      <th>192.101.107.153</th>\n",
       "      <td>2368</td>\n",
       "    </tr>\n",
       "    <tr>\n",
       "      <th>140.112.8.139</th>\n",
       "      <th>103.21.126.2</th>\n",
       "      <td>2056</td>\n",
       "    </tr>\n",
       "    <tr>\n",
       "      <th>137.132.228.15</th>\n",
       "      <th>193.62.192.8</th>\n",
       "      <td>1910</td>\n",
       "    </tr>\n",
       "  </tbody>\n",
       "</table>\n",
       "</div>"
      ],
      "text/plain": [
       "                                COUNT\n",
       "SRC_IP         DEST_IP               \n",
       "193.62.192.8   137.132.228.15    3041\n",
       "130.14.250.11  103.37.198.100    2599\n",
       "14.139.196.58  192.101.107.153   2368\n",
       "140.112.8.139  103.21.126.2      2056\n",
       "137.132.228.15 193.62.192.8      1910"
      ]
     },
     "execution_count": 11,
     "metadata": {},
     "output_type": "execute_result"
    }
   ],
   "source": [
    "# sort in descending order\n",
    "ex4E = data.groupby([\"SRC_IP\", \"DEST_IP\"]).size().sort_values(ascending = False).to_frame().head()\n",
    "ex4E.columns = [\"COUNT\"]\n",
    "ex4E"
   ]
  },
  {
   "cell_type": "markdown",
   "metadata": {},
   "source": [
    "## Exercise 4F: Visualizing Communication between \n",
    "\n",
    "## different IP hosts for top 5 pair"
   ]
  },
  {
   "cell_type": "code",
   "execution_count": 12,
   "metadata": {},
   "outputs": [
    {
     "data": {
      "image/png": "[encoded data removed]",
      "text/plain": [
       "<Figure size 1440x720 with 1 Axes>"
      ]
     },
     "metadata": {
      "needs_background": "light"
     },
     "output_type": "display_data"
    }
   ],
   "source": [
    "row = [i[0] + \"-\" + i[1] for i in ex4E.index] \n",
    "f,axes = plt.subplots(1, 1, figsize = (20, 10))\n",
    "plt.bar(row, ex4E[\"COUNT\"], align = \"center\", color = \"g\")\n",
    "plt.ylabel(\"Count (No of packets)\", fontsize = 25)\n",
    "plt.title(\"Communication Pairs\", fontsize = 30)\n",
    "for i, v in enumerate(ex4E[\"COUNT\"]):\n",
    "    axes.text(i, v + 0.5, str(v),color = \"red\", fontsize = 20)\n",
    "plt.show()"
   ]
  }
 ],
 "metadata": {
  "kernelspec": {
   "display_name": "Python 3",
   "language": "python",
   "name": "python3"
  },
  "language_info": {
   "codemirror_mode": {
    "name": "ipython",
    "version": 3
   },
   "file_extension": ".py",
   "mimetype": "text/x-python",
   "name": "python",
   "nbconvert_exporter": "python",
   "pygments_lexer": "ipython3",
   "version": "3.6.0"
  }
 },
 "nbformat": 4,
 "nbformat_minor": 2
}
